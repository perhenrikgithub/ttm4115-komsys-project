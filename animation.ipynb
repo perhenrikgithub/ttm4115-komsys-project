{
 "cells": [
  {
   "cell_type": "code",
   "execution_count": 53,
   "metadata": {},
   "outputs": [],
   "source": [
    "from sense_hat import SenseHat\n",
    "import stmpy\n",
    "import time\n",
    "\n",
    "sense = SenseHat()\n",
    "\n",
    "# bblue = \"🟦\" \n",
    "# green = \"🟩\" \n",
    "# brown = \"🟫\" \n",
    "# yello = \"🟨\" \n",
    "# gray1 = \"🟪\" \n",
    "# black = \"⬛️\" \n",
    "# gray2 = \"⬜️\" \n",
    "# red__ = \"🟥\" \n",
    "\n",
    "\n",
    "bblue = [100, 120, 250]\n",
    "green = [34, 177, 76]\n",
    "brown = [156, 90, 60]\n",
    "yello = [255, 193, 14]\n",
    "gray1 = [70, 255, 70]\n",
    "black = [10, 10, 10]\n",
    "gray2 = [140, 140, 140]\n",
    "red__ = [237, 28, 36]\n",
    "\n",
    "empty = None"
   ]
  },
  {
   "cell_type": "code",
   "execution_count": 55,
   "metadata": {},
   "outputs": [
    {
     "ename": "KeyboardInterrupt",
     "evalue": "",
     "output_type": "error",
     "traceback": [
      "\u001b[31m---------------------------------------------------------------------------\u001b[39m",
      "\u001b[31mKeyboardInterrupt\u001b[39m                         Traceback (most recent call last)",
      "\u001b[36mCell\u001b[39m\u001b[36m \u001b[39m\u001b[32mIn[55]\u001b[39m\u001b[32m, line 47\u001b[39m\n\u001b[32m     45\u001b[39m \u001b[38;5;28;01mwhile\u001b[39;00m \u001b[38;5;28;01mTrue\u001b[39;00m:\n\u001b[32m     46\u001b[39m     set_display(x_off)\n\u001b[32m---> \u001b[39m\u001b[32m47\u001b[39m     time.sleep(\u001b[32m0.05\u001b[39m)\n\u001b[32m     48\u001b[39m     x_off = (x_off + \u001b[32m1\u001b[39m) % \u001b[32m8\u001b[39m\n",
      "\u001b[31mKeyboardInterrupt\u001b[39m: "
     ]
    }
   ],
   "source": [
    "\n",
    "def flatten_grid(grid):\n",
    "    \"\"\"Flattens a 2D grid into a 1D list.\"\"\"\n",
    "    return [item for row in grid for item in row]\n",
    "\n",
    "bg = [\n",
    "    [bblue, green, bblue, bblue, bblue, green, bblue, bblue],\n",
    "    [green, green, green, bblue, green, green, green, bblue],\n",
    "    [green, green, green, bblue, green, green, green, bblue],\n",
    "    [bblue, brown, bblue, bblue, bblue, brown, bblue, bblue],\n",
    "    [bblue, brown, bblue, bblue, bblue, brown, bblue, bblue],\n",
    "    [gray2, gray2, gray2, gray2, gray2, gray2, gray2, gray2],\n",
    "    [gray2, gray2, gray2, gray2, gray2, gray2, gray2, gray2],\n",
    "    [gray2, gray2, gray2, gray2, gray2, gray2, gray2, gray2]\n",
    "]\n",
    "\n",
    "bike = [\n",
    "    [empty, empty, empty, empty, empty, empty, empty, empty],\n",
    "    [yello, yello, empty, empty, empty, empty, empty, empty],\n",
    "    [yello, brown, empty, empty, empty, empty, empty, empty],\n",
    "    [empty, gray1, gray1, black, black, empty, empty, empty],\n",
    "    [empty, gray1, empty, red__, empty, empty, empty, empty],\n",
    "    [empty, gray1, empty, red__, empty, empty, empty, empty],\n",
    "    [red__, red__, red__, red__, empty, empty, empty, empty],\n",
    "    [black, empty, empty, black, empty, empty, empty, empty]\n",
    "]\n",
    "\n",
    "def animate(bg, bike, x_offset):\n",
    "    frame = [row[:] for row in bg]  # Copy the background\n",
    "    for r in range(8):\n",
    "        for c in range(8):\n",
    "            if bike[r][c] != empty and c + x_offset < 8 and c + x_offset >= 0:\n",
    "                frame[r][c + x_offset] = bike[r][c]\n",
    "    return frame\n",
    "\n",
    "def print_grid(grid):\n",
    "    for row in grid:\n",
    "        print(\"\".join(row))\n",
    "\n",
    "def set_display(offset):\n",
    "    frame = animate(bg, bike, x_off % 8)\n",
    "    sense.set_pixels(flatten_grid(frame))\n",
    "\n",
    "x_off = 0\n",
    "\n",
    "while True:\n",
    "    set_display(x_off)\n",
    "    time.sleep(0.05)\n",
    "    x_off = (x_off + 1) % 8\n",
    "\n"
   ]
  },
  {
   "cell_type": "code",
   "execution_count": 3,
   "metadata": {},
   "outputs": [],
   "source": [
    "\n",
    "class BikeAnimation:\n",
    "    def __init__(self):\n",
    "        self.x_offset = 0\n",
    "\n",
    "    def update_display(self):\n",
    "        frame = animate(bg, bike, self.x_offset % 8)\n",
    "\n",
    "        print_grid(frame) # terminal implementation\n",
    "        # sense.set_pixels(flatten_grid(frame)) # sensehat implementation\n",
    "        \n",
    "        self.x_offset = (self.x_offset + 1) % 8\n",
    "\n"
   ]
  },
  {
   "cell_type": "code",
   "execution_count": 23,
   "metadata": {},
   "outputs": [
    {
     "name": "stderr",
     "output_type": "stream",
     "text": [
      "Exception in thread Thread-48 (_start_loop):\n",
      "Traceback (most recent call last):\n",
      "  File \"/usr/lib/python3.11/threading.py\", line 1038, in _bootstrap_inner\n",
      "    self.run()\n",
      "  File \"/usr/local/lib/python3.11/dist-packages/ipykernel/ipkernel.py\", line 766, in run_closure\n",
      "    _threading_Thread_run(self)\n",
      "  File \"/usr/lib/python3.11/threading.py\", line 975, in run\n",
      "    self._target(*self._args, **self._kwargs)\n",
      "  File \"/home/gr8/.local/lib/python3.11/site-packages/stmpy/__init__.py\", line 421, in _start_loop\n",
      "    self._execute_transition(stm=event['stm'],\n",
      "  File \"/home/gr8/.local/lib/python3.11/site-packages/stmpy/__init__.py\", line 405, in _execute_transition\n",
      "    stm._execute_transition(event_id, args, kwargs)\n",
      "  File \"/home/gr8/.local/lib/python3.11/site-packages/stmpy/__init__.py\", line 763, in _execute_transition\n",
      "    self._enter_state(target, args, kwargs)\n",
      "  File \"/home/gr8/.local/lib/python3.11/site-packages/stmpy/__init__.py\", line 715, in _enter_state\n",
      "    self._run_actions(self._states[state].entry)\n",
      "  File \"/home/gr8/.local/lib/python3.11/site-packages/stmpy/__init__.py\", line 694, in _run_actions\n",
      "    self._run_function(self._obj, action['name'], args, kwargs)\n",
      "  File \"/home/gr8/.local/lib/python3.11/site-packages/stmpy/__init__.py\", line 664, in _run_function\n",
      "    func(*args, **kwargs)\n",
      "  File \"/tmp/ipykernel_15977/2601162517.py\", line 8, in update_display\n",
      "  File \"/tmp/ipykernel_15977/1601620627.py\", line 38, in print_grid\n",
      "TypeError: sequence item 0: expected str instance, list found\n"
     ]
    },
    {
     "ename": "TypeError",
     "evalue": "Machine._enter_state() missing 2 required positional arguments: 'args' and 'kwargs'",
     "output_type": "error",
     "traceback": [
      "\u001b[31m---------------------------------------------------------------------------\u001b[39m",
      "\u001b[31mTypeError\u001b[39m                                 Traceback (most recent call last)",
      "\u001b[36mCell\u001b[39m\u001b[36m \u001b[39m\u001b[32mIn[23]\u001b[39m\u001b[32m, line 28\u001b[39m\n\u001b[32m     25\u001b[39m driver.add_machine(stm)\n\u001b[32m     26\u001b[39m driver.start()\n\u001b[32m---> \u001b[39m\u001b[32m28\u001b[39m \u001b[43mstm\u001b[49m\u001b[43m.\u001b[49m\u001b[43m_enter_state\u001b[49m\u001b[43m(\u001b[49m\u001b[33;43m\"\u001b[39;49m\u001b[33;43mmoving\u001b[39;49m\u001b[33;43m\"\u001b[39;49m\u001b[43m)\u001b[49m\n",
      "\u001b[31mTypeError\u001b[39m: Machine._enter_state() missing 2 required positional arguments: 'args' and 'kwargs'"
     ]
    }
   ],
   "source": [
    "# Define the state machine\n",
    "\n",
    "import stmpy\n",
    "\n",
    "bike_animation = BikeAnimation()\n",
    "transitions = [\n",
    "    {\n",
    "        'source': 'initial', \n",
    "        'target': 'moving',\n",
    "        },  \n",
    "    {\n",
    "        \"source\": \"moving\", \n",
    "        \"target\": \"moving\", \n",
    "        \"trigger\": \"t\", \n",
    "        },\n",
    "]\n",
    "\n",
    "states = [\n",
    "    {\"name\": \"initial\", \"entry\": \"update_display\"},  # Define initial state\n",
    "    {\"name\": \"moving\", \"entry\": \"update_display; start_timer('t', 500)\"},\n",
    "]\n",
    "\n",
    "stm = stmpy.Machine(name=\"bike_stm\", transitions=transitions, states=states, obj=bike_animation)\n",
    "driver = stmpy.Driver()\n",
    "driver.add_machine(stm)\n",
    "driver.start()\n",
    "\n",
    "stm._enter_state(\"moving\")\n",
    "\n"
   ]
  },
  {
   "cell_type": "code",
   "execution_count": null,
   "metadata": {},
   "outputs": [],
   "source": [
    "with open(\"graph.gv\", \"w\") as file:\n",
    "    print(stmpy.get_graphviz_dot(stm), file=file)\n",
    "# dot -Tsvg graph.gv -o graph.svg"
   ]
  },
  {
   "cell_type": "code",
   "execution_count": 22,
   "metadata": {},
   "outputs": [
    {
     "name": "stdout",
     "output_type": "stream",
     "text": [
      "=== State Machines: ===\n",
      "    - bike_stm in state initial\n",
      "=== Events in Queue: ===\n",
      "=== Active Timers: 0 ===\n",
      "=== ================ ===\n",
      "\n"
     ]
    }
   ],
   "source": [
    "print(driver.print_status())"
   ]
  },
  {
   "cell_type": "code",
   "execution_count": null,
   "metadata": {},
   "outputs": [],
   "source": []
  }
 ],
 "metadata": {
  "kernelspec": {
   "display_name": "Python 3",
   "language": "python",
   "name": "python3"
  },
  "language_info": {
   "codemirror_mode": {
    "name": "ipython",
    "version": 3
   },
   "file_extension": ".py",
   "mimetype": "text/x-python",
   "name": "python",
   "nbconvert_exporter": "python",
   "pygments_lexer": "ipython3",
   "version": "3.11.2"
  }
 },
 "nbformat": 4,
 "nbformat_minor": 2
}
