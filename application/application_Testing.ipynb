{
 "cells": [
  {
   "cell_type": "code",
   "execution_count": 7,
   "metadata": {},
   "outputs": [
    {
     "ename": "TypeError",
     "evalue": "Application.__init__() missing 1 required positional argument: 'username'",
     "output_type": "error",
     "traceback": [
      "\u001b[1;31m---------------------------------------------------------------------------\u001b[0m",
      "\u001b[1;31mTypeError\u001b[0m                                 Traceback (most recent call last)",
      "Cell \u001b[1;32mIn[7], line 1\u001b[0m\n\u001b[1;32m----> 1\u001b[0m \u001b[38;5;28;01mfrom\u001b[39;00m \u001b[38;5;21;01mwebapplication\u001b[39;00m \u001b[38;5;28;01mimport\u001b[39;00m Application, application_transitions, application_states\n\u001b[0;32m      2\u001b[0m \u001b[38;5;28;01mimport\u001b[39;00m \u001b[38;5;21;01mstmpy\u001b[39;00m\n\u001b[0;32m      4\u001b[0m application \u001b[38;5;241m=\u001b[39m Application(username\u001b[38;5;241m=\u001b[39m\u001b[38;5;124m'\u001b[39m\u001b[38;5;124mtorbjornogper\u001b[39m\u001b[38;5;124m'\u001b[39m)  \u001b[38;5;66;03m# Ensure all required arguments are passed\u001b[39;00m\n",
      "File \u001b[1;32mc:\\Users\\torbr\\OneDrive\\NTNU\\3.år\\Komsys\\komsys\\ttm4115-komsys-project\\application\\webapplication.py:166\u001b[0m\n\u001b[0;32m     95\u001b[0m application_states \u001b[38;5;241m=\u001b[39m [\n\u001b[0;32m     96\u001b[0m     {\n\u001b[0;32m     97\u001b[0m         \u001b[38;5;124m'\u001b[39m\u001b[38;5;124mname\u001b[39m\u001b[38;5;124m'\u001b[39m: \u001b[38;5;124m'\u001b[39m\u001b[38;5;124midle\u001b[39m\u001b[38;5;124m'\u001b[39m,\n\u001b[1;32m   (...)\u001b[0m\n\u001b[0;32m    116\u001b[0m     },\n\u001b[0;32m    117\u001b[0m ]\n\u001b[0;32m    119\u001b[0m application_transitions \u001b[38;5;241m=\u001b[39m [\n\u001b[0;32m    120\u001b[0m     {\n\u001b[0;32m    121\u001b[0m         \u001b[38;5;124m'\u001b[39m\u001b[38;5;124msource\u001b[39m\u001b[38;5;124m'\u001b[39m: \u001b[38;5;124m'\u001b[39m\u001b[38;5;124minitial\u001b[39m\u001b[38;5;124m'\u001b[39m,\n\u001b[1;32m   (...)\u001b[0m\n\u001b[0;32m    163\u001b[0m     }\n\u001b[0;32m    164\u001b[0m ]\n\u001b[1;32m--> 166\u001b[0m application \u001b[38;5;241m=\u001b[39m \u001b[43mApplication\u001b[49m\u001b[43m(\u001b[49m\u001b[43m)\u001b[49m\n\u001b[0;32m    167\u001b[0m application_machine \u001b[38;5;241m=\u001b[39m stmpy\u001b[38;5;241m.\u001b[39mMachine(name\u001b[38;5;241m=\u001b[39m\u001b[38;5;124mf\u001b[39m\u001b[38;5;124m'\u001b[39m\u001b[38;5;124mapplication\u001b[39m\u001b[38;5;124m'\u001b[39m, transitions\u001b[38;5;241m=\u001b[39mapplication_transitions, obj\u001b[38;5;241m=\u001b[39mapplication, states\u001b[38;5;241m=\u001b[39mapplication_states)\n\u001b[0;32m    168\u001b[0m application\u001b[38;5;241m.\u001b[39mstm \u001b[38;5;241m=\u001b[39m application_machine\n",
      "\u001b[1;31mTypeError\u001b[0m: Application.__init__() missing 1 required positional argument: 'username'"
     ]
    }
   ],
   "source": [
    "from webapplication import Application, application_transitions, application_states\n",
    "import stmpy\n",
    "\n",
    "application = Application(username='torbjornogper')  # Ensure all required arguments are passed\n",
    "application_machine = stmpy.Machine(name=f'application', transitions=application_transitions, obj=application, states=application_states)\n",
    "application.stm = application_machine\n",
    "\n",
    "driver = stmpy.Driver()\n",
    "driver.add_machine(application_machine)\n",
    "driver.start()"
   ]
  },
  {
   "cell_type": "code",
   "execution_count": null,
   "metadata": {},
   "outputs": [],
   "source": []
  }
 ],
 "metadata": {
  "kernelspec": {
   "display_name": "Python 3",
   "language": "python",
   "name": "python3"
  },
  "language_info": {
   "codemirror_mode": {
    "name": "ipython",
    "version": 3
   },
   "file_extension": ".py",
   "mimetype": "text/x-python",
   "name": "python",
   "nbconvert_exporter": "python",
   "pygments_lexer": "ipython3",
   "version": "3.12.0"
  }
 },
 "nbformat": 4,
 "nbformat_minor": 2
}
