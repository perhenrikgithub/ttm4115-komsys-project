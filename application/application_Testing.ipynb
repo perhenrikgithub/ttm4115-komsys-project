{
 "cells": [
  {
   "cell_type": "code",
   "execution_count": 1,
   "metadata": {},
   "outputs": [
    {
     "name": "stderr",
     "output_type": "stream",
     "text": [
      "C:\\Users\\torbr\\AppData\\Local\\Temp\\ipykernel_21996\\1292223161.py:14: DeprecationWarning: Callback API version 1 is deprecated, update to latest version\n",
      "  client = mqtt.Client()\n"
     ]
    },
    {
     "data": {
      "text/plain": [
       "<MQTTErrorCode.MQTT_ERR_SUCCESS: 0>"
      ]
     },
     "execution_count": 1,
     "metadata": {},
     "output_type": "execute_result"
    },
    {
     "name": "stdout",
     "output_type": "stream",
     "text": [
      "Connected with result code 0\n"
     ]
    }
   ],
   "source": [
    "from webapplication import Application, application_transitions, application_states\n",
    "import stmpy\n",
    "import json\n",
    "import paho.mqtt.client as mqtt\n",
    "import time\n",
    "\n",
    "broker, port = \"mqtt20.iik.ntnu.no\", 1883\n",
    "\n",
    "\n",
    "def on_connect(client, userdata, flags, rc):\n",
    "    print(\"Connected with result code \" + str(rc))\n",
    "    # client.subscribe(\"gr8/scooters/action/1\")\n",
    "\n",
    "client = mqtt.Client()\n",
    "client.connect(broker, port)\n",
    "client.on_connect = on_connect\n",
    "client.loop_start()\n"
   ]
  },
  {
   "cell_type": "code",
   "execution_count": 3,
   "metadata": {},
   "outputs": [
    {
     "ename": "KeyError",
     "evalue": "'source'",
     "output_type": "error",
     "traceback": [
      "\u001b[1;31m---------------------------------------------------------------------------\u001b[0m",
      "\u001b[1;31mKeyError\u001b[0m                                  Traceback (most recent call last)",
      "Cell \u001b[1;32mIn[3], line 2\u001b[0m\n\u001b[0;32m      1\u001b[0m application \u001b[38;5;241m=\u001b[39m Application(username\u001b[38;5;241m=\u001b[39m\u001b[38;5;124m'\u001b[39m\u001b[38;5;124mtorbjornogper\u001b[39m\u001b[38;5;124m'\u001b[39m)  \u001b[38;5;66;03m# Ensure all required arguments are passed\u001b[39;00m\n\u001b[1;32m----> 2\u001b[0m application_machine \u001b[38;5;241m=\u001b[39m \u001b[43mstmpy\u001b[49m\u001b[38;5;241;43m.\u001b[39;49m\u001b[43mMachine\u001b[49m\u001b[43m(\u001b[49m\u001b[43mname\u001b[49m\u001b[38;5;241;43m=\u001b[39;49m\u001b[38;5;124;43mf\u001b[39;49m\u001b[38;5;124;43m'\u001b[39;49m\u001b[38;5;124;43mapplication\u001b[39;49m\u001b[38;5;124;43m'\u001b[39;49m\u001b[43m,\u001b[49m\u001b[43m \u001b[49m\u001b[43mtransitions\u001b[49m\u001b[38;5;241;43m=\u001b[39;49m\u001b[43mapplication_transitions\u001b[49m\u001b[43m,\u001b[49m\u001b[43m \u001b[49m\u001b[43mobj\u001b[49m\u001b[38;5;241;43m=\u001b[39;49m\u001b[43mapplication\u001b[49m\u001b[43m,\u001b[49m\u001b[43m \u001b[49m\u001b[43mstates\u001b[49m\u001b[38;5;241;43m=\u001b[39;49m\u001b[43mapplication_states\u001b[49m\u001b[43m)\u001b[49m\n\u001b[0;32m      3\u001b[0m application\u001b[38;5;241m.\u001b[39mstm \u001b[38;5;241m=\u001b[39m application_machine\n\u001b[0;32m      5\u001b[0m driver \u001b[38;5;241m=\u001b[39m stmpy\u001b[38;5;241m.\u001b[39mDriver()\n",
      "File \u001b[1;32mc:\\Python312\\Lib\\site-packages\\stmpy\\__init__.py:621\u001b[0m, in \u001b[0;36mMachine.__init__\u001b[1;34m(self, name, transitions, obj, states)\u001b[0m\n\u001b[0;32m    619\u001b[0m \u001b[38;5;28mself\u001b[39m\u001b[38;5;241m.\u001b[39m_states \u001b[38;5;241m=\u001b[39m {}\n\u001b[0;32m    620\u001b[0m \u001b[38;5;28mself\u001b[39m\u001b[38;5;241m.\u001b[39m_parse_states(states)\n\u001b[1;32m--> 621\u001b[0m \u001b[38;5;28;43mself\u001b[39;49m\u001b[38;5;241;43m.\u001b[39;49m\u001b[43m_parse_transitions\u001b[49m\u001b[43m(\u001b[49m\u001b[43mtransitions\u001b[49m\u001b[43m,\u001b[49m\u001b[43m \u001b[49m\u001b[43mstates\u001b[49m\u001b[43m)\u001b[49m\n\u001b[0;32m    622\u001b[0m \u001b[38;5;28mself\u001b[39m\u001b[38;5;241m.\u001b[39m_defer_queue \u001b[38;5;241m=\u001b[39m \u001b[38;5;28;01mNone\u001b[39;00m\n",
      "File \u001b[1;32mc:\\Python312\\Lib\\site-packages\\stmpy\\__init__.py:446\u001b[0m, in \u001b[0;36mMachine._parse_transitions\u001b[1;34m(self, transitions, states)\u001b[0m\n\u001b[0;32m    444\u001b[0m t_dict \u001b[38;5;241m=\u001b[39m transition_string  \u001b[38;5;66;03m# ast.literal_eval(transition_string)\u001b[39;00m\n\u001b[0;32m    445\u001b[0m \u001b[38;5;66;03m# TODO error handling: string may be written in a wrong way\u001b[39;00m\n\u001b[1;32m--> 446\u001b[0m source \u001b[38;5;241m=\u001b[39m \u001b[43mt_dict\u001b[49m\u001b[43m[\u001b[49m\u001b[38;5;124;43m'\u001b[39;49m\u001b[38;5;124;43msource\u001b[39;49m\u001b[38;5;124;43m'\u001b[39;49m\u001b[43m]\u001b[49m\n\u001b[0;32m    447\u001b[0m \u001b[38;5;28;01mif\u001b[39;00m source \u001b[38;5;129;01mis\u001b[39;00m \u001b[38;5;124m'\u001b[39m\u001b[38;5;124minitial\u001b[39m\u001b[38;5;124m'\u001b[39m:\n\u001b[0;32m    448\u001b[0m     \u001b[38;5;28mself\u001b[39m\u001b[38;5;241m.\u001b[39m_intial_transition \u001b[38;5;241m=\u001b[39m _Transition(transition_string)\n",
      "\u001b[1;31mKeyError\u001b[0m: 'source'"
     ]
    }
   ],
   "source": [
    "application = Application(username='torbjornogper')  # Ensure all required arguments are passed\n",
    "application_machine = stmpy.Machine(name=f'application', transitions=application_transitions, obj=application, states=application_states)\n",
    "application.stm = application_machine\n",
    "\n",
    "driver = stmpy.Driver()\n",
    "driver.add_machine(application_machine)\n",
    "driver.start()"
   ]
  },
  {
   "cell_type": "code",
   "execution_count": null,
   "metadata": {},
   "outputs": [],
   "source": [
    "print(application.username)"
   ]
  },
  {
   "cell_type": "code",
   "execution_count": null,
   "metadata": {},
   "outputs": [],
   "source": [
    "application.active_scooter_id = '1'\n",
    "print(application.active_scooter_id)\n"
   ]
  },
  {
   "cell_type": "code",
   "execution_count": null,
   "metadata": {},
   "outputs": [],
   "source": [
    "unlock_ok = {\n",
    "    \"action\": \"unlock\",\n",
    "}\n",
    "\n",
    "req_unlock = {\n",
    "    \"action\": \"req_unlock\",\n",
    "}\n",
    "\n",
    "lock = {\n",
    "    \"action\": \"lock\",\n",
    "}\n",
    "\n",
    "reserve = {\n",
    "    \"action\": \"reserve\",\n",
    "}"
   ]
  },
  {
   "cell_type": "code",
   "execution_count": null,
   "metadata": {},
   "outputs": [],
   "source": [
    "application.request_scooter_list_from_server()\n",
    "print(application.known_scooters)\n"
   ]
  },
  {
   "cell_type": "code",
   "execution_count": null,
   "metadata": {},
   "outputs": [],
   "source": [
    "application.req_unlock()\n",
    "print(application.active_scooter_id)\n",
    "application.req_lock()\n",
    "print(application.active_scooter_id)\n",
    "\n"
   ]
  },
  {
   "cell_type": "code",
   "execution_count": null,
   "metadata": {},
   "outputs": [],
   "source": [
    "application.request_scooter_list_from_server()\n",
    "print(application.known_scooters)"
   ]
  },
  {
   "cell_type": "code",
   "execution_count": null,
   "metadata": {},
   "outputs": [],
   "source": [
    "client.publish(\"gr8/scooters/scooter_list\", json.dumps(req_unlock), qos=2)"
   ]
  },
  {
   "cell_type": "code",
   "execution_count": null,
   "metadata": {},
   "outputs": [],
   "source": [
    "print(application.stm.state)\n",
    "application.stm.send('req_unlock')\n",
    "time.sleep(1)\n",
    "print(application.stm.state)\n",
    "application.stm.send('unlock_ok')\n",
    "time.sleep(1)\n",
    "print(application.stm.state)\n",
    "application.stm.send('req_lock')\n",
    "time.sleep(1)\n",
    "print(application.stm.state)\n",
    "application.stm.send('lock_ok')\n",
    "time.sleep(1)\n",
    "print(application.stm.state)"
   ]
  },
  {
   "cell_type": "code",
   "execution_count": null,
   "metadata": {},
   "outputs": [],
   "source": [
    "print(application.stm.state)\n",
    "application.stm.send('req_unlock')\n",
    "time.sleep(1)\n",
    "print(application.stm.state)\n",
    "application.stm.send('unlock_ok')\n",
    "time.sleep(1)\n",
    "print(application.stm.state)\n",
    "application.stm.send('req_lock')\n",
    "time.sleep(6)\n",
    "print(application.stm.state)\n",
    "application.stm.send('lock_ok')\n",
    "time.sleep(1)\n",
    "print(application.stm.state)"
   ]
  },
  {
   "cell_type": "code",
   "execution_count": null,
   "metadata": {},
   "outputs": [],
   "source": [
    "application.request_scooter_list_from_server()\n",
    "print(application.known_scooters)"
   ]
  },
  {
   "cell_type": "code",
   "execution_count": null,
   "metadata": {},
   "outputs": [],
   "source": [
    "application.client.publish(\"gr8/server/scooter_list\", json.dumps(req_unlock), qos=2)\n",
    "application.client.publish(\"gr8/server/scooter_list\", json.dumps(unlock_ok), qos=2)"
   ]
  },
  {
   "cell_type": "code",
   "execution_count": null,
   "metadata": {},
   "outputs": [],
   "source": [
    "print(application.stm.state)\n",
    "application.stm.send('req_unlock')\n",
    "time.sleep(1)\n",
    "print(application.stm.state)"
   ]
  },
  {
   "cell_type": "code",
   "execution_count": null,
   "metadata": {},
   "outputs": [],
   "source": [
    "print(application.stm.state)"
   ]
  },
  {
   "cell_type": "code",
   "execution_count": null,
   "metadata": {},
   "outputs": [],
   "source": [
    "print(application.stm.state)\n",
    "application.stm.send('unlock_ok')\n",
    "time.sleep(1)\n",
    "print(application.stm.state)"
   ]
  },
  {
   "cell_type": "code",
   "execution_count": null,
   "metadata": {},
   "outputs": [],
   "source": [
    "application.stm.send('req_lock')\n",
    "application.stm.send('lock_ok')\n",
    "time.sleep(1)   \n",
    "print(application.stm.state)"
   ]
  },
  {
   "cell_type": "code",
   "execution_count": null,
   "metadata": {},
   "outputs": [],
   "source": []
  }
 ],
 "metadata": {
  "kernelspec": {
   "display_name": "Python 3",
   "language": "python",
   "name": "python3"
  },
  "language_info": {
   "codemirror_mode": {
    "name": "ipython",
    "version": 3
   },
   "file_extension": ".py",
   "mimetype": "text/x-python",
   "name": "python",
   "nbconvert_exporter": "python",
   "pygments_lexer": "ipython3",
   "version": "3.12.0"
  }
 },
 "nbformat": 4,
 "nbformat_minor": 2
}
