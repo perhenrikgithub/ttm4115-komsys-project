{
 "cells": [
  {
   "cell_type": "code",
   "execution_count": 35,
   "metadata": {},
   "outputs": [
    {
     "name": "stderr",
     "output_type": "stream",
     "text": [
      "/var/folders/vq/pkv8n_2n68qgtsm77xt3612h0000gp/T/ipykernel_4377/1292223161.py:14: DeprecationWarning: Callback API version 1 is deprecated, update to latest version\n",
      "  client = mqtt.Client()\n"
     ]
    },
    {
     "data": {
      "text/plain": [
       "<MQTTErrorCode.MQTT_ERR_SUCCESS: 0>"
      ]
     },
     "execution_count": 35,
     "metadata": {},
     "output_type": "execute_result"
    },
    {
     "name": "stdout",
     "output_type": "stream",
     "text": [
      "Connected with result code 0\n"
     ]
    }
   ],
   "source": [
    "from webapplication import Application, application_transitions, application_states\n",
    "import stmpy\n",
    "import json\n",
    "import paho.mqtt.client as mqtt\n",
    "import time\n",
    "\n",
    "broker, port = \"mqtt20.iik.ntnu.no\", 1883\n",
    "\n",
    "\n",
    "def on_connect(client, userdata, flags, rc):\n",
    "    print(\"Connected with result code \" + str(rc))\n",
    "    # client.subscribe(\"gr8/scooters/action/1\")\n",
    "\n",
    "client = mqtt.Client()\n",
    "client.connect(broker, port)\n",
    "client.on_connect = on_connect\n",
    "client.loop_start()\n"
   ]
  },
  {
   "cell_type": "code",
   "execution_count": 36,
   "metadata": {},
   "outputs": [],
   "source": [
    "application = Application(username='torbjornogper')  # Ensure all required arguments are passed\n",
    "application_machine = stmpy.Machine(name=f'application', transitions=application_transitions, obj=application, states=application_states)\n",
    "application.stm = application_machine\n",
    "\n",
    "driver = stmpy.Driver()\n",
    "driver.add_machine(application_machine)\n",
    "driver.start()"
   ]
  },
  {
   "cell_type": "code",
   "execution_count": 20,
   "metadata": {},
   "outputs": [
    {
     "name": "stdout",
     "output_type": "stream",
     "text": [
      "torbjornogper\n"
     ]
    }
   ],
   "source": [
    "print(application.username)"
   ]
  },
  {
   "cell_type": "code",
   "execution_count": 38,
   "metadata": {},
   "outputs": [
    {
     "name": "stdout",
     "output_type": "stream",
     "text": [
      "Pi\n"
     ]
    }
   ],
   "source": [
    "application.active_scooter_id = 'Pi'\n",
    "print(application.active_scooter_id)\n"
   ]
  },
  {
   "cell_type": "code",
   "execution_count": 39,
   "metadata": {},
   "outputs": [],
   "source": [
    "unlock_ok = {\n",
    "    \"action\": \"unlock\",\n",
    "}\n",
    "\n",
    "req_unlock = {\n",
    "    \"action\": \"req_unlock\",\n",
    "}\n",
    "\n",
    "lock = {\n",
    "    \"action\": \"lock\",\n",
    "}\n",
    "\n",
    "reserve = {\n",
    "    \"action\": \"reserve\",\n",
    "}"
   ]
  },
  {
   "cell_type": "code",
   "execution_count": 40,
   "metadata": {},
   "outputs": [
    {
     "name": "stdout",
     "output_type": "stream",
     "text": [
      "{}\n"
     ]
    }
   ],
   "source": [
    "application.request_scooter_list_from_server()\n",
    "print(application.known_scooters)\n"
   ]
  },
  {
   "cell_type": "code",
   "execution_count": 41,
   "metadata": {},
   "outputs": [
    {
     "name": "stdout",
     "output_type": "stream",
     "text": [
      "{}\n"
     ]
    }
   ],
   "source": [
    "print(application.known_scooters)"
   ]
  },
  {
   "cell_type": "code",
   "execution_count": 24,
   "metadata": {},
   "outputs": [
    {
     "name": "stdout",
     "output_type": "stream",
     "text": [
      "1\n",
      "1\n"
     ]
    }
   ],
   "source": [
    "application.req_unlock()\n",
    "print(application.active_scooter_id)\n",
    "application.req_lock()\n",
    "print(application.active_scooter_id)\n",
    "\n"
   ]
  },
  {
   "cell_type": "code",
   "execution_count": 25,
   "metadata": {},
   "outputs": [
    {
     "name": "stdout",
     "output_type": "stream",
     "text": [
      "{}\n"
     ]
    }
   ],
   "source": [
    "application.request_scooter_list_from_server()\n",
    "print(application.known_scooters)"
   ]
  },
  {
   "cell_type": "code",
   "execution_count": 26,
   "metadata": {},
   "outputs": [
    {
     "data": {
      "text/plain": [
       "<paho.mqtt.client.MQTTMessageInfo at 0x10fce3b50>"
      ]
     },
     "execution_count": 26,
     "metadata": {},
     "output_type": "execute_result"
    }
   ],
   "source": [
    "client.publish(\"gr8/scooters/scooter_list\", json.dumps(req_unlock), qos=2)"
   ]
  },
  {
   "cell_type": "code",
   "execution_count": 27,
   "metadata": {},
   "outputs": [
    {
     "name": "stdout",
     "output_type": "stream",
     "text": [
      "idle\n",
      "wait_unlock\n",
      "active\n",
      "wait_lock\n",
      "idle\n"
     ]
    }
   ],
   "source": [
    "print(application.stm.state)\n",
    "application.stm.send('req_unlock')\n",
    "time.sleep(1)\n",
    "print(application.stm.state)\n",
    "application.stm.send('unlock_ok')\n",
    "time.sleep(1)\n",
    "print(application.stm.state)\n",
    "application.stm.send('req_lock')\n",
    "time.sleep(1)\n",
    "print(application.stm.state)\n",
    "application.stm.send('lock_ok')\n",
    "time.sleep(1)\n",
    "print(application.stm.state)"
   ]
  },
  {
   "cell_type": "code",
   "execution_count": 28,
   "metadata": {},
   "outputs": [
    {
     "name": "stdout",
     "output_type": "stream",
     "text": [
      "idle\n",
      "wait_unlock\n",
      "active\n",
      "active\n",
      "active\n"
     ]
    }
   ],
   "source": [
    "print(application.stm.state)\n",
    "application.stm.send('req_unlock')\n",
    "time.sleep(1)\n",
    "print(application.stm.state)\n",
    "application.stm.send('unlock_ok')\n",
    "time.sleep(1)\n",
    "print(application.stm.state)\n",
    "application.stm.send('req_lock')\n",
    "time.sleep(6)\n",
    "print(application.stm.state)\n",
    "application.stm.send('lock_ok')\n",
    "time.sleep(1)\n",
    "print(application.stm.state)"
   ]
  },
  {
   "cell_type": "code",
   "execution_count": 29,
   "metadata": {},
   "outputs": [
    {
     "name": "stdout",
     "output_type": "stream",
     "text": [
      "{}\n"
     ]
    }
   ],
   "source": [
    "application.request_scooter_list_from_server()\n",
    "print(application.known_scooters)"
   ]
  },
  {
   "cell_type": "code",
   "execution_count": 30,
   "metadata": {},
   "outputs": [
    {
     "name": "stdout",
     "output_type": "stream",
     "text": [
      "active\n"
     ]
    }
   ],
   "source": [
    "# application.client.publish(\"gr8/server/scooter_list\", json.dumps(req_unlock), qos=2)\n",
    "# application.client.publish(\"gr8/server/scooter_list\", json.dumps(unlock_ok), qos=2)\n",
    "application.req_unlock()\n",
    "time.sleep(1)\n",
    "print(application.stm.state)"
   ]
  },
  {
   "cell_type": "code",
   "execution_count": 31,
   "metadata": {},
   "outputs": [
    {
     "name": "stdout",
     "output_type": "stream",
     "text": [
      "active\n",
      "active\n"
     ]
    }
   ],
   "source": [
    "print(application.stm.state)\n",
    "application.stm.send('req_unlock')\n",
    "time.sleep(1)\n",
    "print(application.stm.state)"
   ]
  },
  {
   "cell_type": "code",
   "execution_count": 32,
   "metadata": {},
   "outputs": [
    {
     "name": "stdout",
     "output_type": "stream",
     "text": [
      "active\n"
     ]
    }
   ],
   "source": [
    "print(application.stm.state)"
   ]
  },
  {
   "cell_type": "code",
   "execution_count": 33,
   "metadata": {},
   "outputs": [
    {
     "name": "stdout",
     "output_type": "stream",
     "text": [
      "active\n",
      "active\n"
     ]
    }
   ],
   "source": [
    "print(application.stm.state)\n",
    "application.stm.send('unlock_ok')\n",
    "time.sleep(1)\n",
    "print(application.stm.state)"
   ]
  },
  {
   "cell_type": "code",
   "execution_count": 34,
   "metadata": {},
   "outputs": [
    {
     "name": "stdout",
     "output_type": "stream",
     "text": [
      "idle\n"
     ]
    }
   ],
   "source": [
    "application.stm.send('req_lock')\n",
    "application.stm.send('lock_ok')\n",
    "time.sleep(1)   \n",
    "print(application.stm.state)"
   ]
  },
  {
   "cell_type": "code",
   "execution_count": null,
   "metadata": {},
   "outputs": [],
   "source": []
  }
 ],
 "metadata": {
  "kernelspec": {
   "display_name": ".venv",
   "language": "python",
   "name": "python3"
  },
  "language_info": {
   "codemirror_mode": {
    "name": "ipython",
    "version": 3
   },
   "file_extension": ".py",
   "mimetype": "text/x-python",
   "name": "python",
   "nbconvert_exporter": "python",
   "pygments_lexer": "ipython3",
   "version": "3.12.7"
  }
 },
 "nbformat": 4,
 "nbformat_minor": 2
}
