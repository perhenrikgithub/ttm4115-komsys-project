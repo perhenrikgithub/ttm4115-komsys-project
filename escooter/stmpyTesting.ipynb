{
 "cells": [
  {
   "cell_type": "code",
   "execution_count": 1,
   "metadata": {},
   "outputs": [
    {
     "name": "stdout",
     "output_type": "stream",
     "text": [
      "Connected with result code 0"
     ]
    },
    {
     "name": "stderr",
     "output_type": "stream",
     "text": [
      "/tmp/ipykernel_4664/734341844.py:16: DeprecationWarning: Callback API version 1 is deprecated, update to latest version\n",
      "  client = mqtt.Client()\n"
     ]
    },
    {
     "data": {
      "text/plain": [
       "<MQTTErrorCode.MQTT_ERR_SUCCESS: 0>"
      ]
     },
     "execution_count": 1,
     "metadata": {},
     "output_type": "execute_result"
    },
    {
     "name": "stdout",
     "output_type": "stream",
     "text": [
      "\n"
     ]
    }
   ],
   "source": [
    "from escooter import EScooter, escooter_states, escooter_transition\n",
    "import stmpy\n",
    "import time\n",
    "from sense_hat import SenseHat\n",
    "import matplotlib.pyplot as plt\n",
    "import paho.mqtt.client as mqtt\n",
    "broker, port = \"mqtt20.iik.ntnu.no\", 1883\n",
    "import json\n",
    "\n",
    "sense = SenseHat()\n",
    "\n",
    "def on_connect(client, userdata, flags, rc):\n",
    "    print(\"Connected with result code \" + str(rc))\n",
    "    # client.subscribe(\"gr8/scooters/action/1\")\n",
    "\n",
    "client = mqtt.Client()\n",
    "client.connect(broker, port)\n",
    "client.on_connect = on_connect\n",
    "client.loop_start()"
   ]
  },
  {
   "cell_type": "code",
   "execution_count": 3,
   "metadata": {},
   "outputs": [
    {
     "name": "stdout",
     "output_type": "stream",
     "text": [
      "[init] SRaspberry Pi\n",
      "[MQTT - SRaspberry Pi] Connected to broker\n",
      "[init] SScooter 1\n",
      "[MQTT - SScooter 1] Connected to broker\n",
      "[init] SScooter 2\n",
      "[MQTT - SScooter 2] Connected to broker\n",
      "[init] SScooter 3\n",
      "[MQTT - SScooter 3] Connected to broker\n"
     ]
    }
   ],
   "source": [
    "escooter = EScooter(\"Raspberry Pi\", sense)\n",
    "escooter_machine = stmpy.Machine(name=f'escooter1', transitions=escooter_transition, obj=escooter, states=escooter_states)\n",
    "escooter.stm = escooter_machine\n",
    "\n",
    "escooter = EScooter(\"Scooter 1\")\n",
    "escooter_machine1 = stmpy.Machine(name=f'escooter1', transitions=escooter_transition, obj=escooter, states=escooter_states)\n",
    "escooter.stm = escooter_machine1\n",
    "\n",
    "escooter2 = EScooter(\"Scooter 2\")\n",
    "escooter_machine2 = stmpy.Machine(name=f'escooter2', transitions=escooter_transition, obj=escooter, states=escooter_states)\n",
    "escooter2.stm = escooter_machine2\n",
    "\n",
    "escooter3 = EScooter(\"Scooter 3\")\n",
    "escooter_machine3 = stmpy.Machine(name=f'escooter3', transitions=escooter_transition, obj=escooter, states=escooter_states)\n",
    "escooter3.stm = escooter_machine3\n",
    "\n",
    "driver = stmpy.Driver()\n",
    "driver.add_machine(escooter_machine)\n",
    "driver.add_machine(escooter_machine1)\n",
    "driver.add_machine(escooter_machine2)\n",
    "driver.add_machine(escooter_machine3)\n",
    "driver.start()"
   ]
  },
  {
   "cell_type": "code",
   "execution_count": null,
   "metadata": {},
   "outputs": [
    {
     "name": "stdout",
     "output_type": "stream",
     "text": [
      "[init] Snew scooter\n",
      "[MQTT - Snew scooter] Connected to broker\n"
     ]
    }
   ],
   "source": [
    "escooter4 = EScooter(\"Scooter 4 (added later)\")\n",
    "escooter_machine4 = stmpy.Machine(name=f'new scooter', transitions=escooter_transition, obj=escooter, states=escooter_states)\n",
    "escooter4.stm = escooter_machine4\n",
    "\n",
    "driver.add_machine(escooter_machine4)"
   ]
  },
  {
   "cell_type": "code",
   "execution_count": 5,
   "metadata": {},
   "outputs": [],
   "source": [
    "unlock = {\n",
    "    \"action\": \"unlock\",\n",
    "}\n",
    "\n",
    "lock = {\n",
    "    \"action\": \"lock\",\n",
    "}\n",
    "\n",
    "reserve = {\n",
    "    \"action\": \"reserve\",\n",
    "}\n",
    "\n",
    "unreserve = {\n",
    "    \"action\": \"unreserve\",\n",
    "}"
   ]
  },
  {
   "cell_type": "code",
   "execution_count": 11,
   "metadata": {},
   "outputs": [],
   "source": [
    "sense.clear()"
   ]
  },
  {
   "cell_type": "markdown",
   "metadata": {},
   "source": [
    "## Unlock"
   ]
  },
  {
   "cell_type": "code",
   "execution_count": 6,
   "metadata": {},
   "outputs": [
    {
     "data": {
      "text/plain": [
       "<paho.mqtt.client.MQTTMessageInfo at 0x7f75d95b70>"
      ]
     },
     "execution_count": 6,
     "metadata": {},
     "output_type": "execute_result"
    }
   ],
   "source": [
    "client.publish(\"gr8/scooters/action/1\", json.dumps(unlock), qos=2)"
   ]
  },
  {
   "cell_type": "markdown",
   "metadata": {},
   "source": [
    "## Lock"
   ]
  },
  {
   "cell_type": "code",
   "execution_count": 7,
   "metadata": {},
   "outputs": [
    {
     "data": {
      "text/plain": [
       "<paho.mqtt.client.MQTTMessageInfo at 0x7f75cd4270>"
      ]
     },
     "execution_count": 7,
     "metadata": {},
     "output_type": "execute_result"
    }
   ],
   "source": [
    "client.publish(\"gr8/scooters/action/1\", json.dumps(lock), qos=2)"
   ]
  },
  {
   "cell_type": "code",
   "execution_count": null,
   "metadata": {},
   "outputs": [],
   "source": [
    "client.publish(\"gr8/scooters/action/1\", json.dumps(reserve), qos=2)"
   ]
  },
  {
   "cell_type": "code",
   "execution_count": null,
   "metadata": {},
   "outputs": [],
   "source": [
    "client.publish(\"gr8/scooters/action/1\", json.dumps(unreserve), qos=2)"
   ]
  },
  {
   "cell_type": "code",
   "execution_count": 24,
   "metadata": {},
   "outputs": [
    {
     "name": "stderr",
     "output_type": "stream",
     "text": [
      "WARNING:stmpy:Machine escooter1 is in state unlocked and received event release, but no transition with this event is declared!\n"
     ]
    }
   ],
   "source": [
    "escooter.stm.send('release')"
   ]
  },
  {
   "cell_type": "code",
   "execution_count": 9,
   "metadata": {},
   "outputs": [],
   "source": [
    "escooter.stm.send('gas')"
   ]
  },
  {
   "cell_type": "code",
   "execution_count": 6,
   "metadata": {},
   "outputs": [
    {
     "name": "stdout",
     "output_type": "stream",
     "text": [
      "=== State Machines: ===\n",
      "    - escooter1 in state unlocked\n",
      "=== Events in Queue: ===\n",
      "=== Active Timers: 0 ===\n",
      "=== ================ ===\n",
      "\n"
     ]
    }
   ],
   "source": [
    "print(driver.print_status())"
   ]
  },
  {
   "cell_type": "code",
   "execution_count": 26,
   "metadata": {},
   "outputs": [],
   "source": [
    "driver.stop()"
   ]
  },
  {
   "cell_type": "code",
   "execution_count": 27,
   "metadata": {},
   "outputs": [],
   "source": [
    "escooter.stm.send('gas')"
   ]
  }
 ],
 "metadata": {
  "kernelspec": {
   "display_name": "Python 3",
   "language": "python",
   "name": "python3"
  },
  "language_info": {
   "codemirror_mode": {
    "name": "ipython",
    "version": 3
   },
   "file_extension": ".py",
   "mimetype": "text/x-python",
   "name": "python",
   "nbconvert_exporter": "python",
   "pygments_lexer": "ipython3",
   "version": "3.11.2"
  }
 },
 "nbformat": 4,
 "nbformat_minor": 2
}
