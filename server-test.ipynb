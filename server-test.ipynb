{
 "cells": [
  {
   "cell_type": "code",
   "execution_count": 1,
   "metadata": {},
   "outputs": [],
   "source": [
    "from server.server import Server\n",
    "from escooter.escooter import EScooter, escooter_states, escooter_transition\n",
    "import stmpy\n",
    "import paho.mqtt.client as mqtt"
   ]
  },
  {
   "cell_type": "code",
   "execution_count": 2,
   "metadata": {},
   "outputs": [
    {
     "name": "stdout",
     "output_type": "stream",
     "text": [
      "Server connected to broker\n",
      "[init] Se1\n",
      "[init] Se2\n",
      "[MQTT - Se1] Connected to broker\n",
      "[MQTT - Se2] Connected to broker\n",
      "[init] Se3\n",
      "[MQTT - Se3] Connected to broker\n"
     ]
    },
    {
     "name": "stderr",
     "output_type": "stream",
     "text": [
      "/tmp/ipykernel_8026/733900085.py:19: DeprecationWarning: Callback API version 1 is deprecated, update to latest version\n",
      "  client = mqtt.Client()\n"
     ]
    },
    {
     "data": {
      "text/plain": [
       "<MQTTErrorCode.MQTT_ERR_SUCCESS: 0>"
      ]
     },
     "execution_count": 2,
     "metadata": {},
     "output_type": "execute_result"
    },
    {
     "name": "stdout",
     "output_type": "stream",
     "text": [
      "Received scooter status: {'available': True, 'scooter_id': 'e1', 'location': '63.4300, 10.3950', 'battery': '60%', 'is_currently_charging': True}\n",
      "Received scooter status: {'available': True, 'scooter_id': 'e1', 'location': '63.4300, 10.3950', 'battery': '60%', 'is_currently_charging': True}\n",
      "Received scooter status: {'available': True, 'scooter_id': 'e1', 'location': '63.4300, 10.3950', 'battery': '60%', 'is_currently_charging': True}\n",
      "Received scooter status: {'available': True, 'scooter_id': 'e2', 'location': '63.4300, 10.3950', 'battery': '60%', 'is_currently_charging': True}\n",
      "Received scooter status: {'available': True, 'scooter_id': 'e3', 'location': '63.4300, 10.3950', 'battery': '60%', 'is_currently_charging': True}\n"
     ]
    }
   ],
   "source": [
    "server = Server()\n",
    "escooter = EScooter(\"e1\")\n",
    "escooter_machine = stmpy.Machine(name=f'escooter1', transitions=escooter_transition, obj=escooter, states=escooter_states)\n",
    "escooter.stm = escooter_machine\n",
    "\n",
    "escooter2 = EScooter(\"e2\")\n",
    "escooter_machine2 = stmpy.Machine(name=f'escooter2', transitions=escooter_transition, obj=escooter, states=escooter_states)\n",
    "escooter2.stm = escooter_machine2\n",
    "\n",
    "escooter3 = EScooter(\"e3\")\n",
    "escooter_machine3 = stmpy.Machine(name=f'escooter3', transitions=escooter_transition, obj=escooter, states=escooter_states)\n",
    "escooter3.stm = escooter_machine3\n",
    "\n",
    "driver = stmpy.Driver()\n",
    "driver.add_machine(escooter_machine)\n",
    "driver.start()\n",
    "\n",
    "broker, port = \"mqtt20.iik.ntnu.no\", 1883\n",
    "client = mqtt.Client()\n",
    "client.connect(broker, port)\n",
    "client.loop_start()\n"
   ]
  },
  {
   "cell_type": "markdown",
   "metadata": {},
   "source": [
    "## Request scooter list"
   ]
  },
  {
   "cell_type": "code",
   "execution_count": 7,
   "metadata": {},
   "outputs": [
    {
     "data": {
      "text/plain": [
       "<paho.mqtt.client.MQTTMessageInfo at 0x7f8c2c95d0>"
      ]
     },
     "execution_count": 7,
     "metadata": {},
     "output_type": "execute_result"
    }
   ],
   "source": [
    "client.publish(\"gr8/server/scooter_list\", \"\", qos=2)"
   ]
  },
  {
   "cell_type": "code",
   "execution_count": 6,
   "metadata": {},
   "outputs": [],
   "source": [
    "escooter.publish_status(is_available=True)\n",
    "escooter2.publish_status(is_available=True)\n",
    "escooter3.publish_status(is_available=True)"
   ]
  }
 ],
 "metadata": {
  "kernelspec": {
   "display_name": "Python 3",
   "language": "python",
   "name": "python3"
  },
  "language_info": {
   "codemirror_mode": {
    "name": "ipython",
    "version": 3
   },
   "file_extension": ".py",
   "mimetype": "text/x-python",
   "name": "python",
   "nbconvert_exporter": "python",
   "pygments_lexer": "ipython3",
   "version": "3.11.2"
  }
 },
 "nbformat": 4,
 "nbformat_minor": 2
}
