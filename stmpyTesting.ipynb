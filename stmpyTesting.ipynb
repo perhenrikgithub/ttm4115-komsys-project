{
 "cells": [
  {
   "cell_type": "code",
   "execution_count": 10,
   "metadata": {},
   "outputs": [],
   "source": [
    "from escooter import EScooter, escooter_states, escooter_transition\n",
    "import stmpy\n",
    "from animation import BikeAnimation, bike_animation_transitions"
   ]
  },
  {
   "cell_type": "code",
   "execution_count": 20,
   "metadata": {},
   "outputs": [
    {
     "name": "stdout",
     "output_type": "stream",
     "text": [
      "[init] S1\n"
     ]
    },
    {
     "name": "stdout",
     "output_type": "stream",
     "text": [
      "[MQTT - S1] Connected to broker\n",
      "unlock()\n",
      "move\n",
      "[MQTT - S1] Connected to broker\n",
      "[MQTT - S1] Connected to broker\n",
      "[MQTT - S1] Connected to broker\n",
      "[MQTT - S1] Connected to broker\n",
      "[MQTT - S1] Connected to broker\n",
      "[MQTT - S1] Connected to broker\n",
      "[MQTT - S1] Connected to broker\n",
      "[MQTT - S1] Connected to broker\n",
      "[MQTT - S1] Connected to broker\n",
      "[MQTT - S1] Connected to broker\n",
      "[MQTT - S1] Connected to broker\n",
      "[MQTT - S1] Connected to broker\n",
      "[MQTT - S1] Connected to broker\n",
      "[MQTT - S1] Connected to broker\n",
      "[MQTT - S1] Connected to broker\n",
      "[MQTT - S1] Connected to broker\n",
      "[MQTT - S1] Connected to broker\n",
      "[MQTT - S1] Connected to broker\n",
      "[MQTT - S1] Connected to broker\n",
      "[MQTT - S1] Connected to broker\n",
      "[MQTT - S1] Connected to broker\n",
      "[MQTT - S1] Connected to broker\n",
      "[MQTT - S1] Connected to broker\n",
      "[MQTT - S1] Connected to broker\n",
      "[MQTT - S1] Connected to broker\n",
      "[MQTT - S1] Connected to broker\n",
      "[MQTT - S1] Connected to broker\n",
      "[MQTT - S1] Connected to broker\n",
      "[MQTT - S1] Connected to broker\n",
      "[MQTT - S1] Connected to broker\n",
      "[MQTT - S1] Connected to broker\n",
      "[MQTT - S1] Connected to broker\n",
      "[MQTT - S1] Connected to broker\n",
      "[MQTT - S1] Connected to broker\n",
      "[MQTT - S1] Connected to broker\n",
      "[MQTT - S1] Connected to broker\n"
     ]
    }
   ],
   "source": [
    "escooter = EScooter(\"1\")\n",
    "escooter_machine = stmpy.Machine(name=f'escooter1', transitions=escooter_transition, obj=escooter, states=escooter_states)\n",
    "escooter.stm = escooter_machine\n",
    "\n",
    "driver = stmpy.Driver()\n",
    "driver.add_machine(escooter_machine)\n",
    "driver.start()"
   ]
  },
  {
   "cell_type": "code",
   "execution_count": 21,
   "metadata": {},
   "outputs": [],
   "source": [
    "escooter.stm.send('unlock')"
   ]
  },
  {
   "cell_type": "code",
   "execution_count": 22,
   "metadata": {},
   "outputs": [],
   "source": [
    "escooter.stm.send('gas')"
   ]
  },
  {
   "cell_type": "code",
   "execution_count": 23,
   "metadata": {},
   "outputs": [
    {
     "name": "stdout",
     "output_type": "stream",
     "text": [
      "=== State Machines: ===\n",
      "    - bike_stm in state moving\n",
      "=== Events in Queue: ===\n",
      "=== Active Timers: 0 ===\n",
      "=== ================ ===\n",
      "\n"
     ]
    }
   ],
   "source": [
    "print(driver.print_status())"
   ]
  }
 ],
 "metadata": {
  "kernelspec": {
   "display_name": ".venv",
   "language": "python",
   "name": "python3"
  },
  "language_info": {
   "codemirror_mode": {
    "name": "ipython",
    "version": 3
   },
   "file_extension": ".py",
   "mimetype": "text/x-python",
   "name": "python",
   "nbconvert_exporter": "python",
   "pygments_lexer": "ipython3",
   "version": "3.13.2"
  }
 },
 "nbformat": 4,
 "nbformat_minor": 2
}
