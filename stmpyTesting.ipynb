{
 "cells": [
  {
   "cell_type": "code",
   "execution_count": null,
   "metadata": {},
   "outputs": [
    {
     "name": "stdout",
     "output_type": "stream",
     "text": [
      "[init] S1\n",
      "[MQTT - S1] Connected to broker\n"
     ]
    },
    {
     "ename": "ImportError",
     "evalue": "cannot import name 'BikeAnimation' from 'animation' (/home/gr8/Desktop/ttm4115-komsys-project/animation.py)",
     "output_type": "error",
     "traceback": [
      "\u001b[31m---------------------------------------------------------------------------\u001b[39m",
      "\u001b[31mImportError\u001b[39m                               Traceback (most recent call last)",
      "\u001b[36mCell\u001b[39m\u001b[36m \u001b[39m\u001b[32mIn[2]\u001b[39m\u001b[32m, line 3\u001b[39m\n\u001b[32m      1\u001b[39m \u001b[38;5;28;01mfrom\u001b[39;00m \u001b[34;01mescooter\u001b[39;00m \u001b[38;5;28;01mimport\u001b[39;00m EScooter, escooter_states, escooter_transition\n\u001b[32m      2\u001b[39m \u001b[38;5;28;01mimport\u001b[39;00m \u001b[34;01mstmpy\u001b[39;00m\n\u001b[32m----> \u001b[39m\u001b[32m3\u001b[39m \u001b[38;5;28;01mfrom\u001b[39;00m \u001b[34;01manimation\u001b[39;00m \u001b[38;5;28;01mimport\u001b[39;00m BikeAnimation, bike_animation_transitions\n",
      "\u001b[31mImportError\u001b[39m: cannot import name 'BikeAnimation' from 'animation' (/home/gr8/Desktop/ttm4115-komsys-project/animation.py)"
     ]
    }
   ],
   "source": [
    "from escooter import EScooter, escooter_states, escooter_transition\n",
    "import stmpy"
   ]
  },
  {
   "cell_type": "code",
   "execution_count": 20,
   "metadata": {},
   "outputs": [
    {
     "name": "stdout",
     "output_type": "stream",
     "text": [
      "[init] S1\n"
     ]
    },
    {
     "name": "stdout",
     "output_type": "stream",
     "text": [
      "[MQTT - S1] Connected to broker\n",
      "unlock()\n",
      "move\n",
      "[MQTT - S1] Connected to broker\n",
      "[MQTT - S1] Connected to broker\n",
      "[MQTT - S1] Connected to broker\n",
      "[MQTT - S1] Connected to broker\n",
      "[MQTT - S1] Connected to broker\n",
      "[MQTT - S1] Connected to broker\n",
      "[MQTT - S1] Connected to broker\n",
      "[MQTT - S1] Connected to broker\n",
      "[MQTT - S1] Connected to broker\n",
      "[MQTT - S1] Connected to broker\n",
      "[MQTT - S1] Connected to broker\n",
      "[MQTT - S1] Connected to broker\n",
      "[MQTT - S1] Connected to broker\n",
      "[MQTT - S1] Connected to broker\n",
      "[MQTT - S1] Connected to broker\n",
      "[MQTT - S1] Connected to broker\n",
      "[MQTT - S1] Connected to broker\n",
      "[MQTT - S1] Connected to broker\n",
      "[MQTT - S1] Connected to broker\n",
      "[MQTT - S1] Connected to broker\n",
      "[MQTT - S1] Connected to broker\n",
      "[MQTT - S1] Connected to broker\n",
      "[MQTT - S1] Connected to broker\n",
      "[MQTT - S1] Connected to broker\n",
      "[MQTT - S1] Connected to broker\n",
      "[MQTT - S1] Connected to broker\n",
      "[MQTT - S1] Connected to broker\n",
      "[MQTT - S1] Connected to broker\n",
      "[MQTT - S1] Connected to broker\n",
      "[MQTT - S1] Connected to broker\n",
      "[MQTT - S1] Connected to broker\n",
      "[MQTT - S1] Connected to broker\n",
      "[MQTT - S1] Connected to broker\n",
      "[MQTT - S1] Connected to broker\n",
      "[MQTT - S1] Connected to broker\n",
      "[MQTT - S1] Connected to broker\n"
     ]
    }
   ],
   "source": [
    "escooter = EScooter(\"1\")\n",
    "escooter_machine = stmpy.Machine(name=f'escooter1', transitions=escooter_transition, obj=escooter, states=escooter_states)\n",
    "escooter.stm = escooter_machine\n",
    "\n",
    "driver = stmpy.Driver()\n",
    "driver.add_machine(escooter_machine)\n",
    "driver.start()"
   ]
  },
  {
   "cell_type": "code",
   "execution_count": 21,
   "metadata": {},
   "outputs": [],
   "source": [
    "escooter.stm.send('unlock')"
   ]
  },
  {
   "cell_type": "code",
   "execution_count": 22,
   "metadata": {},
   "outputs": [],
   "source": [
    "escooter.stm.send('gas')"
   ]
  },
  {
   "cell_type": "code",
   "execution_count": 23,
   "metadata": {},
   "outputs": [
    {
     "name": "stdout",
     "output_type": "stream",
     "text": [
      "=== State Machines: ===\n",
      "    - bike_stm in state moving\n",
      "=== Events in Queue: ===\n",
      "=== Active Timers: 0 ===\n",
      "=== ================ ===\n",
      "\n"
     ]
    }
   ],
   "source": [
    "print(driver.print_status())"
   ]
  }
 ],
 "metadata": {
  "kernelspec": {
   "display_name": "Python 3",
   "language": "python",
   "name": "python3"
  },
  "language_info": {
   "codemirror_mode": {
    "name": "ipython",
    "version": 3
   },
   "file_extension": ".py",
   "mimetype": "text/x-python",
   "name": "python",
   "nbconvert_exporter": "python",
   "pygments_lexer": "ipython3",
   "version": "3.11.2"
  }
 },
 "nbformat": 4,
 "nbformat_minor": 2
}
