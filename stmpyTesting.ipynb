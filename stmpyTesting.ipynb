{
 "cells": [
  {
   "cell_type": "code",
   "execution_count": 9,
   "metadata": {},
   "outputs": [],
   "source": [
    "from escooter import EScooter, escooter_states, escooter_transition\n",
    "from animation import sense, set_lock_display, set_unlock_display\n",
    "import stmpy"
   ]
  },
  {
   "cell_type": "code",
   "execution_count": 2,
   "metadata": {},
   "outputs": [
    {
     "name": "stdout",
     "output_type": "stream",
     "text": [
      "[init] S1\n"
     ]
    },
    {
     "name": "stdout",
     "output_type": "stream",
     "text": [
      "[MQTT - S1] Connected to broker\n"
     ]
    }
   ],
   "source": [
    "escooter = EScooter(\"1\")\n",
    "escooter_machine = stmpy.Machine(name=f'escooter1', transitions=escooter_transition, obj=escooter, states=escooter_states)\n",
    "escooter.stm = escooter_machine\n",
    "\n",
    "driver = stmpy.Driver()\n",
    "driver.add_machine(escooter_machine)\n",
    "driver.start()"
   ]
  },
  {
   "cell_type": "code",
   "execution_count": 21,
   "metadata": {},
   "outputs": [],
   "source": [
    "with open(\"graph.gv\", \"w\") as file:\n",
    "    print(stmpy.get_graphviz_dot(escooter_machine), file=file)\n",
    "# dot -Tsvg graph.gv -o graph.svg"
   ]
  },
  {
   "cell_type": "code",
   "execution_count": 3,
   "metadata": {},
   "outputs": [],
   "source": [
    "def handle_event(event):\n",
    "    if event.action == 'held':\n",
    "        escooter.stm.send('gas')\n",
    "    elif event.action == 'released':\n",
    "        escooter.stm.send('release')\n",
    "    \n",
    "\n",
    "sense.stick.direction_any = handle_event"
   ]
  },
  {
   "cell_type": "code",
   "execution_count": 10,
   "metadata": {},
   "outputs": [],
   "source": [
    "set_lock_display()"
   ]
  },
  {
   "cell_type": "code",
   "execution_count": 6,
   "metadata": {},
   "outputs": [],
   "source": [
    "set_unlock_display()"
   ]
  },
  {
   "cell_type": "code",
   "execution_count": 28,
   "metadata": {},
   "outputs": [],
   "source": [
    "escooter.stm.send('unlock')"
   ]
  },
  {
   "cell_type": "code",
   "execution_count": 24,
   "metadata": {},
   "outputs": [
    {
     "name": "stderr",
     "output_type": "stream",
     "text": [
      "WARNING:stmpy:Machine escooter1 is in state unlocked and received event release, but no transition with this event is declared!\n"
     ]
    }
   ],
   "source": [
    "escooter.stm.send('release')"
   ]
  },
  {
   "cell_type": "code",
   "execution_count": 25,
   "metadata": {},
   "outputs": [
    {
     "name": "stdout",
     "output_type": "stream",
     "text": [
      "=== State Machines: ===\n",
      "    - escooter1 in state unlocked\n",
      "=== Events in Queue: ===\n",
      "=== Active Timers: 0 ===\n",
      "=== ================ ===\n",
      "\n"
     ]
    }
   ],
   "source": [
    "print(driver.print_status())"
   ]
  },
  {
   "cell_type": "code",
   "execution_count": 26,
   "metadata": {},
   "outputs": [],
   "source": [
    "driver.stop()"
   ]
  },
  {
   "cell_type": "code",
   "execution_count": 27,
   "metadata": {},
   "outputs": [],
   "source": [
    "escooter.stm.send('gas')"
   ]
  }
 ],
 "metadata": {
  "kernelspec": {
   "display_name": "Python 3",
   "language": "python",
   "name": "python3"
  },
  "language_info": {
   "codemirror_mode": {
    "name": "ipython",
    "version": 3
   },
   "file_extension": ".py",
   "mimetype": "text/x-python",
   "name": "python",
   "nbconvert_exporter": "python",
   "pygments_lexer": "ipython3",
   "version": "3.11.2"
  }
 },
 "nbformat": 4,
 "nbformat_minor": 2
}
